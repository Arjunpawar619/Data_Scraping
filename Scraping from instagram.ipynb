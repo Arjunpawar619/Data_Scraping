{
 "cells": [
  {
   "cell_type": "code",
   "execution_count": null,
   "metadata": {},
   "outputs": [],
   "source": [
    "import pandas as pd\n",
    "from selenium import webdriver \n",
    "from selenium.webdriver.common.keys import Keys\n",
    "from webdriver_manager.chrome import ChromeDriverManager\n",
    "from selenium.webdriver.common.by import By\n",
    "from selenium.webdriver.support.wait import WebDriverWait\n",
    "from selenium.webdriver.support import expected_conditions as EC\n",
    "from bs4 import BeautifulSoup \n",
    "import time"
   ]
  },
  {
   "cell_type": "code",
   "execution_count": null,
   "metadata": {
    "scrolled": true
   },
   "outputs": [],
   "source": [
    "chrome_options = webdriver.ChromeOptions()\n",
    "chrome_options.add_argument(\"--disable-notifications\")\n",
    "driver = webdriver.Chrome(ChromeDriverManager().install(), chrome_options=chrome_options)"
   ]
  },
  {
   "cell_type": "code",
   "execution_count": null,
   "metadata": {},
   "outputs": [],
   "source": [
    "driver.get('https://www.self.com/story/fitness-trainers-to-follow-on-instagram-now')"
   ]
  },
  {
   "cell_type": "code",
   "execution_count": null,
   "metadata": {},
   "outputs": [],
   "source": [
    "#scraping name from website\n",
    "html = driver.page_source\n",
    "soup = BeautifulSoup(html,'html.parser')\n",
    "df=soup.find_all('div',{'class':'heading-h3'})\n",
    "list_influencer=[]\n",
    "list_name=[]\n",
    "dict_1={}\n",
    "for i in df:\n",
    "    name_id=i.text.split()[-1]\n",
    "    name=i.text.split()[1]\n",
    "    #print(name,name_id)\n",
    "    list_influencer.append(name_id)\n",
    "    list_name.append(name)\n",
    "    dict_1['Name'] =  list_name[:5]\n",
    "    dict_1['username'] = list_influencer[:5]"
   ]
  },
  {
   "cell_type": "code",
   "execution_count": null,
   "metadata": {
    "scrolled": true
   },
   "outputs": [],
   "source": [
    "list_influencer"
   ]
  },
  {
   "cell_type": "code",
   "execution_count": null,
   "metadata": {},
   "outputs": [],
   "source": [
    "list_name"
   ]
  },
  {
   "cell_type": "code",
   "execution_count": null,
   "metadata": {},
   "outputs": [],
   "source": [
    "#directed to instagram\n",
    "driver.get('https://www.instagram.com/')"
   ]
  },
  {
   "cell_type": "code",
   "execution_count": null,
   "metadata": {},
   "outputs": [],
   "source": [
    "username = WebDriverWait(driver,18).until(EC.element_to_be_clickable((By.CSS_SELECTOR,\"input[name='username']\")))\n",
    "username.clear()\n",
    "username.send_keys(\"***************\") #enter your username\n",
    "#username.send_keys(Keys.ENTER)\n",
    "\n",
    "password = WebDriverWait(driver,15).until(EC.element_to_be_clickable((By.CSS_SELECTOR,\"input[name='password']\")))\n",
    "password.clear()\n",
    "password.send_keys(\"***************\") #enter your password\n",
    "password.send_keys(Keys.ENTER)\n",
    "time.sleep(5)"
   ]
  },
  {
   "cell_type": "code",
   "execution_count": null,
   "metadata": {
    "scrolled": true
   },
   "outputs": [],
   "source": [
    "_list=[]\n",
    "search_box = WebDriverWait(driver,18).until(EC.element_to_be_clickable((By.CSS_SELECTOR,\"input[type = 'text']\")))\n",
    "search_box.clear()\n",
    "for i in list_influencer[:5]:\n",
    "    search_box.send_keys(i)\n",
    "    time.sleep(5)\n",
    "    enter= WebDriverWait(driver,18).until(EC.element_to_be_clickable((By.XPATH,\"//*[@id='react-root']/section/nav/div[2]/div/div/div[2]/div[3]/div/div[2]/div/div[1]/a/div\"))).click()\n",
    "    #search_box.send_keys(Keys.ENTER)\n",
    "    time.sleep(15)\n",
    "    html= driver.page_source\n",
    "    soup = BeautifulSoup(html,'html.parser')\n",
    "    web_site=soup.find_all('a',{'page_id':'profilePage'})\n",
    "    for j in web_site:\n",
    "        _list.append(j.text)\n",
    "        dict_1['website/youtube-channel'] = _list\n",
    "        print(dict_1)\n",
    "        break\n",
    "       \n",
    "    search_box = WebDriverWait(driver,18).until(EC.element_to_be_clickable((By.CSS_SELECTOR,\"input[placeholder = 'Search']\")))\n",
    "    search_box.clear()\n",
    "   "
   ]
  },
  {
   "cell_type": "code",
   "execution_count": null,
   "metadata": {},
   "outputs": [],
   "source": [
    "print(dict_1)"
   ]
  },
  {
   "cell_type": "code",
   "execution_count": null,
   "metadata": {},
   "outputs": [],
   "source": [
    "#output\n",
    "df = pd.DataFrame.from_dict(dict_1)\n",
    "df"
   ]
  },
  {
   "cell_type": "code",
   "execution_count": null,
   "metadata": {},
   "outputs": [],
   "source": []
  },
  {
   "cell_type": "code",
   "execution_count": null,
   "metadata": {},
   "outputs": [],
   "source": []
  },
  {
   "cell_type": "code",
   "execution_count": null,
   "metadata": {},
   "outputs": [],
   "source": []
  }
 ],
 "metadata": {
  "kernelspec": {
   "display_name": "Python 3",
   "language": "python",
   "name": "python3"
  },
  "language_info": {
   "codemirror_mode": {
    "name": "ipython",
    "version": 3
   },
   "file_extension": ".py",
   "mimetype": "text/x-python",
   "name": "python",
   "nbconvert_exporter": "python",
   "pygments_lexer": "ipython3",
   "version": "3.8.5"
  }
 },
 "nbformat": 4,
 "nbformat_minor": 4
}
