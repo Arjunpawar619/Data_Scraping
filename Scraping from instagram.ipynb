{
 "cells": [
  {
   "cell_type": "code",
   "execution_count": 1,
   "metadata": {},
   "outputs": [],
   "source": [
    "import pandas as pd\n",
    "from selenium import webdriver \n",
    "from selenium.webdriver.common.keys import Keys\n",
    "from webdriver_manager.chrome import ChromeDriverManager\n",
    "from selenium.webdriver.common.by import By\n",
    "from selenium.webdriver.support.wait import WebDriverWait\n",
    "from selenium.webdriver.support import expected_conditions as EC\n",
    "from bs4 import BeautifulSoup \n",
    "import time"
   ]
  },
  {
   "cell_type": "code",
   "execution_count": 2,
   "metadata": {
    "scrolled": true
   },
   "outputs": [
    {
     "name": "stderr",
     "output_type": "stream",
     "text": [
      "[WDM] - ====== WebDriver manager ======\n",
      "[WDM] - Current google-chrome version is 88.0.4324\n",
      "[WDM] - Get LATEST driver version for 88.0.4324\n"
     ]
    },
    {
     "name": "stdout",
     "output_type": "stream",
     "text": [
      "\n",
      "\n"
     ]
    },
    {
     "name": "stderr",
     "output_type": "stream",
     "text": [
      "[WDM] - Driver [C:\\Users\\Arjun\\.wdm\\drivers\\chromedriver\\win32\\88.0.4324.96\\chromedriver.exe] found in cache\n",
      "<ipython-input-2-398875551a9e>:3: DeprecationWarning: use options instead of chrome_options\n",
      "  driver = webdriver.Chrome(ChromeDriverManager().install(), chrome_options=chrome_options)\n"
     ]
    }
   ],
   "source": [
    "chrome_options = webdriver.ChromeOptions()\n",
    "chrome_options.add_argument(\"--disable-notifications\")\n",
    "driver = webdriver.Chrome(ChromeDriverManager().install(), chrome_options=chrome_options)"
   ]
  },
  {
   "cell_type": "code",
   "execution_count": 3,
   "metadata": {},
   "outputs": [],
   "source": [
    "driver.get('https://www.self.com/story/fitness-trainers-to-follow-on-instagram-now')"
   ]
  },
  {
   "cell_type": "code",
   "execution_count": 4,
   "metadata": {},
   "outputs": [],
   "source": [
    "html = driver.page_source\n",
    "soup = BeautifulSoup(html,'html.parser')\n",
    "df=soup.find_all('div',{'class':'heading-h3'})\n",
    "list_influencer=[]\n",
    "list_name=[]\n",
    "dict_1={}\n",
    "for i in df:\n",
    "    name_id=i.text.split()[-1]\n",
    "    name=i.text.split()[1]\n",
    "    #print(name,name_id)\n",
    "    list_influencer.append(name_id)\n",
    "    list_name.append(name)\n",
    "    dict_1['Name'] =  list_name[:5]\n",
    "    dict_1['username'] = list_influencer[:5]"
   ]
  },
  {
   "cell_type": "code",
   "execution_count": 5,
   "metadata": {
    "scrolled": true
   },
   "outputs": [
    {
     "data": {
      "text/plain": [
       "['(@msjeanettejenkins)',\n",
       " '(@shauna_harrison)',\n",
       " '(@robinnyc)',\n",
       " '(@traco4)',\n",
       " '(@noraminnord)',\n",
       " '(@kirastokesfit)',\n",
       " '(@mariepurvis)',\n",
       " '(@louisegreen_bigfitgirl',\n",
       " '(@jsimsfit)',\n",
       " '(@natalieuhling)',\n",
       " '(@massy.arias)',\n",
       " '(@biancapaigefit)',\n",
       " '(@moritsummers)',\n",
       " '(@followthelita)',\n",
       " '(@ivfitness)',\n",
       " '(@breebranks)',\n",
       " '(@amandabisk)',\n",
       " '(@rozthediva)',\n",
       " '(@bodybyhannah)']"
      ]
     },
     "execution_count": 5,
     "metadata": {},
     "output_type": "execute_result"
    }
   ],
   "source": [
    "list_influencer"
   ]
  },
  {
   "cell_type": "code",
   "execution_count": 6,
   "metadata": {},
   "outputs": [
    {
     "data": {
      "text/plain": [
       "['Jeanette',\n",
       " 'Shauna',\n",
       " 'Robin',\n",
       " 'Traci',\n",
       " 'Nora',\n",
       " 'Kira',\n",
       " 'Marie',\n",
       " 'Louise',\n",
       " 'Jess',\n",
       " 'Natalie',\n",
       " 'Massy',\n",
       " 'Bianca',\n",
       " 'Morit',\n",
       " 'Lita',\n",
       " 'Idalis',\n",
       " 'Bree',\n",
       " 'Amanda',\n",
       " 'Roz',\n",
       " 'Hannah']"
      ]
     },
     "execution_count": 6,
     "metadata": {},
     "output_type": "execute_result"
    }
   ],
   "source": [
    "list_name"
   ]
  },
  {
   "cell_type": "code",
   "execution_count": 7,
   "metadata": {},
   "outputs": [],
   "source": [
    "driver.get('https://www.instagram.com/')"
   ]
  },
  {
   "cell_type": "code",
   "execution_count": 8,
   "metadata": {},
   "outputs": [],
   "source": [
    "username = WebDriverWait(driver,18).until(EC.element_to_be_clickable((By.CSS_SELECTOR,\"input[name='username']\")))\n",
    "username.clear()\n",
    "username.send_keys(\"***************\")\n",
    "#username.send_keys(Keys.ENTER)\n",
    "\n",
    "password = WebDriverWait(driver,15).until(EC.element_to_be_clickable((By.CSS_SELECTOR,\"input[name='password']\")))\n",
    "password.clear()\n",
    "password.send_keys(\"***************\")\n",
    "password.send_keys(Keys.ENTER)\n",
    "time.sleep(5)"
   ]
  },
  {
   "cell_type": "code",
   "execution_count": 9,
   "metadata": {
    "scrolled": true
   },
   "outputs": [
    {
     "name": "stdout",
     "output_type": "stream",
     "text": [
      "{'Name': ['Jeanette', 'Shauna', 'Robin', 'Traci', 'Nora'], 'username': ['(@msjeanettejenkins)', '(@shauna_harrison)', '(@robinnyc)', '(@traco4)', '(@noraminnord)'], 'website/youtube-channel': ['linktr.ee/msjeanettejenkins']}\n",
      "{'Name': ['Jeanette', 'Shauna', 'Robin', 'Traci', 'Nora'], 'username': ['(@msjeanettejenkins)', '(@shauna_harrison)', '(@robinnyc)', '(@traco4)', '(@noraminnord)'], 'website/youtube-channel': ['linktr.ee/msjeanettejenkins', 'linkin.bio/shauna_harrison']}\n",
      "{'Name': ['Jeanette', 'Shauna', 'Robin', 'Traci', 'Nora'], 'username': ['(@msjeanettejenkins)', '(@shauna_harrison)', '(@robinnyc)', '(@traco4)', '(@noraminnord)'], 'website/youtube-channel': ['linktr.ee/msjeanettejenkins', 'linkin.bio/shauna_harrison', 'www.youtube.com/watch?v=HMoqb3ELMp0&t=26s']}\n",
      "{'Name': ['Jeanette', 'Shauna', 'Robin', 'Traci', 'Nora'], 'username': ['(@msjeanettejenkins)', '(@shauna_harrison)', '(@robinnyc)', '(@traco4)', '(@noraminnord)'], 'website/youtube-channel': ['linktr.ee/msjeanettejenkins', 'linkin.bio/shauna_harrison', 'www.youtube.com/watch?v=HMoqb3ELMp0&t=26s', 'www.eddiebauer.com/p/H4000606/eddie-bauer-x-sub-pop-flannel-shirt?sp=1&cm_mmc=social-_-influencer-_-IG-_-Traci_2.13.21_Subpopflannelshirt']}\n",
      "{'Name': ['Jeanette', 'Shauna', 'Robin', 'Traci', 'Nora'], 'username': ['(@msjeanettejenkins)', '(@shauna_harrison)', '(@robinnyc)', '(@traco4)', '(@noraminnord)'], 'website/youtube-channel': ['linktr.ee/msjeanettejenkins', 'linkin.bio/shauna_harrison', 'www.youtube.com/watch?v=HMoqb3ELMp0&t=26s', 'www.eddiebauer.com/p/H4000606/eddie-bauer-x-sub-pop-flannel-shirt?sp=1&cm_mmc=social-_-influencer-_-IG-_-Traci_2.13.21_Subpopflannelshirt', 'www.today.com/video/top-trends-in-nutrition-and-fitness-mushrooms-yoga-and-more-99259461567']}\n"
     ]
    }
   ],
   "source": [
    "_list=[]\n",
    "search_box = WebDriverWait(driver,18).until(EC.element_to_be_clickable((By.CSS_SELECTOR,\"input[type = 'text']\")))\n",
    "search_box.clear()\n",
    "for i in list_influencer[:5]:\n",
    "    search_box.send_keys(i)\n",
    "    time.sleep(5)\n",
    "    enter= WebDriverWait(driver,18).until(EC.element_to_be_clickable((By.XPATH,\"//*[@id='react-root']/section/nav/div[2]/div/div/div[2]/div[3]/div/div[2]/div/div[1]/a/div\"))).click()\n",
    "    #search_box.send_keys(Keys.ENTER)\n",
    "    time.sleep(15)\n",
    "    html= driver.page_source\n",
    "    soup = BeautifulSoup(html,'html.parser')\n",
    "    web_site=soup.find_all('a',{'page_id':'profilePage'})\n",
    "    for j in web_site:\n",
    "        _list.append(j.text)\n",
    "        dict_1['website/youtube-channel'] = _list\n",
    "        print(dict_1)\n",
    "        break\n",
    "       \n",
    "    search_box = WebDriverWait(driver,18).until(EC.element_to_be_clickable((By.CSS_SELECTOR,\"input[placeholder = 'Search']\")))\n",
    "    search_box.clear()\n",
    "   "
   ]
  },
  {
   "cell_type": "code",
   "execution_count": 10,
   "metadata": {},
   "outputs": [
    {
     "name": "stdout",
     "output_type": "stream",
     "text": [
      "{'Name': ['Jeanette', 'Shauna', 'Robin', 'Traci', 'Nora'], 'username': ['(@msjeanettejenkins)', '(@shauna_harrison)', '(@robinnyc)', '(@traco4)', '(@noraminnord)'], 'website/youtube-channel': ['linktr.ee/msjeanettejenkins', 'linkin.bio/shauna_harrison', 'www.youtube.com/watch?v=HMoqb3ELMp0&t=26s', 'www.eddiebauer.com/p/H4000606/eddie-bauer-x-sub-pop-flannel-shirt?sp=1&cm_mmc=social-_-influencer-_-IG-_-Traci_2.13.21_Subpopflannelshirt', 'www.today.com/video/top-trends-in-nutrition-and-fitness-mushrooms-yoga-and-more-99259461567']}\n"
     ]
    }
   ],
   "source": [
    "print(dict_1)\n",
    "    "
   ]
  },
  {
   "cell_type": "code",
   "execution_count": 11,
   "metadata": {},
   "outputs": [
    {
     "data": {
      "text/html": [
       "<div>\n",
       "<style scoped>\n",
       "    .dataframe tbody tr th:only-of-type {\n",
       "        vertical-align: middle;\n",
       "    }\n",
       "\n",
       "    .dataframe tbody tr th {\n",
       "        vertical-align: top;\n",
       "    }\n",
       "\n",
       "    .dataframe thead th {\n",
       "        text-align: right;\n",
       "    }\n",
       "</style>\n",
       "<table border=\"1\" class=\"dataframe\">\n",
       "  <thead>\n",
       "    <tr style=\"text-align: right;\">\n",
       "      <th></th>\n",
       "      <th>Name</th>\n",
       "      <th>username</th>\n",
       "      <th>website/youtube-channel</th>\n",
       "    </tr>\n",
       "  </thead>\n",
       "  <tbody>\n",
       "    <tr>\n",
       "      <th>0</th>\n",
       "      <td>Jeanette</td>\n",
       "      <td>(@msjeanettejenkins)</td>\n",
       "      <td>linktr.ee/msjeanettejenkins</td>\n",
       "    </tr>\n",
       "    <tr>\n",
       "      <th>1</th>\n",
       "      <td>Shauna</td>\n",
       "      <td>(@shauna_harrison)</td>\n",
       "      <td>linkin.bio/shauna_harrison</td>\n",
       "    </tr>\n",
       "    <tr>\n",
       "      <th>2</th>\n",
       "      <td>Robin</td>\n",
       "      <td>(@robinnyc)</td>\n",
       "      <td>www.youtube.com/watch?v=HMoqb3ELMp0&amp;t=26s</td>\n",
       "    </tr>\n",
       "    <tr>\n",
       "      <th>3</th>\n",
       "      <td>Traci</td>\n",
       "      <td>(@traco4)</td>\n",
       "      <td>www.eddiebauer.com/p/H4000606/eddie-bauer-x-su...</td>\n",
       "    </tr>\n",
       "    <tr>\n",
       "      <th>4</th>\n",
       "      <td>Nora</td>\n",
       "      <td>(@noraminnord)</td>\n",
       "      <td>www.today.com/video/top-trends-in-nutrition-an...</td>\n",
       "    </tr>\n",
       "  </tbody>\n",
       "</table>\n",
       "</div>"
      ],
      "text/plain": [
       "       Name              username  \\\n",
       "0  Jeanette  (@msjeanettejenkins)   \n",
       "1    Shauna    (@shauna_harrison)   \n",
       "2     Robin           (@robinnyc)   \n",
       "3     Traci             (@traco4)   \n",
       "4      Nora        (@noraminnord)   \n",
       "\n",
       "                             website/youtube-channel  \n",
       "0                        linktr.ee/msjeanettejenkins  \n",
       "1                         linkin.bio/shauna_harrison  \n",
       "2          www.youtube.com/watch?v=HMoqb3ELMp0&t=26s  \n",
       "3  www.eddiebauer.com/p/H4000606/eddie-bauer-x-su...  \n",
       "4  www.today.com/video/top-trends-in-nutrition-an...  "
      ]
     },
     "execution_count": 11,
     "metadata": {},
     "output_type": "execute_result"
    }
   ],
   "source": [
    "df = pd.DataFrame.from_dict(dict_1)\n",
    "df"
   ]
  },
  {
   "cell_type": "code",
   "execution_count": null,
   "metadata": {},
   "outputs": [],
   "source": []
  },
  {
   "cell_type": "code",
   "execution_count": null,
   "metadata": {},
   "outputs": [],
   "source": []
  },
  {
   "cell_type": "code",
   "execution_count": null,
   "metadata": {},
   "outputs": [],
   "source": []
  }
 ],
 "metadata": {
  "kernelspec": {
   "display_name": "Python 3",
   "language": "python",
   "name": "python3"
  },
  "language_info": {
   "codemirror_mode": {
    "name": "ipython",
    "version": 3
   },
   "file_extension": ".py",
   "mimetype": "text/x-python",
   "name": "python",
   "nbconvert_exporter": "python",
   "pygments_lexer": "ipython3",
   "version": "3.8.5"
  }
 },
 "nbformat": 4,
 "nbformat_minor": 4
}
